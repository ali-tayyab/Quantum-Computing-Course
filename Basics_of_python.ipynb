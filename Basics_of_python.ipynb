{
 "cells": [
  {
   "cell_type": "markdown",
   "metadata": {},
   "source": [
    "<div style=\"text-align: justify\">\n",
    "\n",
    "### **Introduction**\n",
    "\n",
    "Nowadays computing is exclusively done on computers using various computing tools. Prime tool of computing is a programing language. Physicists and other scientists has been using FORTRAN, C/C++, and Python. Although FORTRAN is now rarely used for developing new computer program but it is still in occasional use among scientists as some legacy codes are in available only in FORTRAN. A computer language usually comes with a limited numbers of inbuilt functionalities, mostly involving following minimal features.\n",
    " - Intrinsic data types\n",
    " - Operations\n",
    " - Conditionals\n",
    " - Loops\n",
    " - Functions\n",
    " - Modules/Libraries/Packages\n",
    " - Ability to define new data structures <br>\n",
    "\n",
    "\n",
    "So if you are required to do a more advanced calculations like numerical integra tion or solving a differential equation numerically, you need to write a computer program in a computer language of your choice to complete your task. Writting a code for standard numerical calculation, that all physicist do routinely, is not recommended. Many experts have already written these codes, which are quite efficient and robust. So we should prefer to use these standard codes usually available in the form of libraries in case of C/C++ and FORTRAN and modules in case of Python. Mostly these libraries and modules are opensourse so you can use them freely. Other than numerical calculations, scientific computations also involve data analysis and data visualization. Again you are encouraged to use relevent libraries and modules. There exist an other class of tools which offers inbuilt functions to do numerical calculations, data analysis and visualization apart from offering minimal features which any programing language is supposed to provide. The tools which belong to this class includes Mathematica, Matlab and Maple. These proprietary tools can also be considered as computer languages, however, they primarily provide a huge number of functions which can be called to do advanced numerical calculations and data handling. In one sense, they seems ideal for scientific calculations because we don’t need to search for scientific libraries, everything is available within a complete package. However, ``there is a price that you have to pay'' as these tools are not freely available. Other than this, the codes written in these languages are interpre tative in nature and hence slow. However, Mathematica and Maple allows to do symbolic calculations which other programing languages do not offer. This feature makes them indespensible tool in case where you are required to do a large amount of symbolic calculations. Let us summarized the tools of scientific computations as following\n",
    "\n",
    "- C/C++ and FORTRAN: These are compiled computer languages, so you are\n",
    " required to used them when your computing task involves large amount of\n",
    " calculations and speed is important to complete the task in reasonable time.\n",
    " These laguages offer basic programing feature, so you are also required to use\n",
    " libraries for numerical calculations, data analysis and visualization.\n",
    " - Python: This is an interpreted computer language, hence significantly slower\n",
    " than C/C++ and FORTRAN. However, it comes with a large repository of\n",
    " modules which can be used to do all sort of scientific computations. Object oriented features of Python makes it an excellent choice for most of the modern\n",
    " scientific applications.\n",
    " - Mathematica, Matlab, and Maple: There are also interpretive languages. How\n",
    "ever, they come with built in funcations to do scientific computations. Sym\n",
    "bolic calculations are also possible in Mathematica and Maple. Their main\n",
    " draw back is that they are not opensourse.\n",
    " - Specilized application packages: These application tools are designed to do\n",
    " some specific calculation. Programing is not possible in most of the cases.\n",
    " User is required to edit configuration files to complete the task.<br>\n",
    "\n",
    "Choice of operating system is also important in case of scientific computations. Due\n",
    "to opensource nature of Linux based operating system most of the scientific libraries\n",
    "of C/C++ and FORTRAN have been developed to work in Linux. Specialized\n",
    "application packages are also mostly developed in Linux. So in these cases Linux\n",
    "is a prefered choice for scientific computations. However, if you are using Python,\n",
    "Mathematica, Matlab etc then operating system does not matter. Recently Windows\n",
    "has introduced a Linux subsytem which can be used to execute and develop Linux\n",
    "based applications with in Windows. This subsystem is primarily text based, though\n",
    "limited GUI is available through XServer (a Windows propritory application). It\n",
    "can be a good starting point to get familiar with Linux operating system. For a\n",
    "more serious users or developers, it is highly recommended to have a separate stand\n",
    "alone Linux operating system.\n",
    "\n",
    "</div>\n"
   ]
  },
  {
   "cell_type": "markdown",
   "id": "29b02363",
   "metadata": {},
   "source": [
    "### **Installation of Python and Setting-up an environment**\n",
    "<div style=\"text-align: justify\">\n",
    "\n",
    "To start programming in Python on Windows, follow these steps carefully.\n",
    "\n",
    "#### 1. Install Python\n",
    "1. Go to the official Python website: [https://www.python.org/downloads/](https://www.python.org/downloads/).  \n",
    "2. Download the **latest stable version** for Windows.  \n",
    "3. Run the installer and check the box *\"Add Python to PATH\"* before clicking **Install Now**.  \n",
    "4. After installation, open **Command Prompt** and verify with:  \n",
    "   - `python --version`  \n",
    "   - `pip --version`  \n",
    "\n",
    "If both commands return version numbers, Python is installed successfully.\n",
    "\n",
    "#### 2. Install Visual Studio Code (VS Code)\n",
    "1. Download VS Code from: [https://code.visualstudio.com/](https://code.visualstudio.com/).  \n",
    "2. Install with default settings.  \n",
    "3. Open VS Code and install the **Python extension**:  \n",
    "   - Click on the Extensions icon (left sidebar).  \n",
    "   - Search for `Python` and install the extension provided by Microsoft.  \n",
    "\n",
    "Now VS Code is ready to recognize and run Python code.\n",
    "\n",
    "#### 3. Create and Use a Virtual Environment\n",
    "Virtual environments keep your project dependencies isolated.\n",
    "\n",
    "1. Open **Command Prompt** (or VS Code Terminal).  \n",
    "2. Navigate to your project folder using `cd path\\to\\project`.  \n",
    "3. Create a virtual environment with:  \n",
    "   - `python -m venv myenv`  \n",
    "4. Activate the environment:  \n",
    "   - `myenv\\Scripts\\activate`  \n",
    "   (You will see `(myenv)` appear before the command prompt.)  \n",
    "5. Install required packages (example):  \n",
    "   - `pip install numpy pandas matplotlib`  \n",
    "6. To deactivate when done:  \n",
    "   - `deactivate`  \n",
    "\n",
    "Now you have Python installed, VS Code ready, and a working environment for your projects. This setup ensures your projects are clean, organized, and easy to manage.\n",
    "\n",
    "</div>\n"
   ]
  },
  {
   "cell_type": "code",
   "execution_count": null,
   "id": "10ae1269",
   "metadata": {},
   "outputs": [],
   "source": [
    "# Intrinsic datatypes\n",
    "# Operations\n",
    "# Conditional\n",
    "# Loops\n",
    "# Functions\n",
    "# Modules/Libraries/Packages"
   ]
  },
  {
   "cell_type": "code",
   "execution_count": null,
   "id": "9a97cc0f",
   "metadata": {},
   "outputs": [
    {
     "data": {
      "text/plain": [
       "complex"
      ]
     },
     "execution_count": 5,
     "metadata": {},
     "output_type": "execute_result"
    }
   ],
   "source": [
    "# Built-in DataTypes\n",
    "# Integar\n",
    "x = 3\n",
    "# float\n",
    "y = 3.0\n",
    "# complex\n",
    "z = 2 + 3j\n",
    "type(x)\n",
    "type(y)\n",
    "type(z)"
   ]
  },
  {
   "cell_type": "code",
   "execution_count": 13,
   "id": "44e5b9e1",
   "metadata": {},
   "outputs": [
    {
     "data": {
      "text/plain": [
       "(2, 3, 4, 5, 6, 7, 8, 4, 5)"
      ]
     },
     "execution_count": 13,
     "metadata": {},
     "output_type": "execute_result"
    }
   ],
   "source": [
    "# list\n",
    "ls = [1,2,3,4,5,6]\n",
    "ls.append(7)\n",
    "ls\n",
    "ls.extend([8,9])\n",
    "ls\n",
    "ls.insert(0,10)\n",
    "ls\n",
    "# concatenation\n",
    "nls = [11,12]\n",
    "ls + nls\n",
    "\n",
    "# Tuple\n",
    "tp = (2,3,4,5,6,7,8)\n",
    "ntp = (4,5)\n",
    "tp + ntp"
   ]
  },
  {
   "cell_type": "code",
   "execution_count": 29,
   "id": "174dbde1",
   "metadata": {},
   "outputs": [
    {
     "name": "stdout",
     "output_type": "stream",
     "text": [
      "frozenset({1, 2, 3, 4, 5})\n"
     ]
    }
   ],
   "source": [
    "# Set and fronzenset\n",
    "s = {1,2,4,5,6,7,8}\n",
    "s.add(10)\n",
    "s\n",
    "fs = frozenset([1,2,3,4,5])\n",
    "print(fs)"
   ]
  },
  {
   "cell_type": "code",
   "execution_count": 25,
   "id": "171f86a0",
   "metadata": {},
   "outputs": [
    {
     "data": {
      "text/plain": [
       "True"
      ]
     },
     "execution_count": 25,
     "metadata": {},
     "output_type": "execute_result"
    }
   ],
   "source": [
    "x = True\n",
    "x"
   ]
  },
  {
   "cell_type": "code",
   "execution_count": 26,
   "id": "c3193390",
   "metadata": {},
   "outputs": [
    {
     "data": {
      "text/plain": [
       "str"
      ]
     },
     "execution_count": 26,
     "metadata": {},
     "output_type": "execute_result"
    }
   ],
   "source": [
    "a  = \"Tayyab\"\n",
    "type(a)"
   ]
  },
  {
   "cell_type": "code",
   "execution_count": 28,
   "id": "e8eb4b69",
   "metadata": {},
   "outputs": [
    {
     "data": {
      "text/plain": [
       "'Tayyab'"
      ]
     },
     "execution_count": 28,
     "metadata": {},
     "output_type": "execute_result"
    }
   ],
   "source": [
    "data = {\n",
    "    \"name\" : \"Tayyab\", \n",
    "    \"age\" : 25\n",
    "}\n",
    "data[\"name\"]"
   ]
  },
  {
   "cell_type": "code",
   "execution_count": 30,
   "id": "a6baeee5",
   "metadata": {},
   "outputs": [
    {
     "name": "stdout",
     "output_type": "stream",
     "text": [
      "x is less than zero\n"
     ]
    }
   ],
   "source": [
    "# conditionals\n",
    "x = -4\n",
    "if x<0:\n",
    "    print(\"x is less than zero\")\n",
    "else:\n",
    "    print(\"x is greater than zero\")"
   ]
  },
  {
   "cell_type": "code",
   "execution_count": 31,
   "id": "5edadaca",
   "metadata": {},
   "outputs": [
    {
     "name": "stdout",
     "output_type": "stream",
     "text": [
      "5\n"
     ]
    }
   ],
   "source": [
    "x1 = 10\n",
    "x2 = 5\n",
    "if x1>x2:\n",
    "    x3 = x1-x2\n",
    "    print(x3)\n",
    "else:\n",
    "    x3 = x2-x1\n",
    "    print(x3)"
   ]
  },
  {
   "cell_type": "code",
   "execution_count": 32,
   "id": "d6f2289f",
   "metadata": {},
   "outputs": [
    {
     "name": "stdout",
     "output_type": "stream",
     "text": [
      "10\n",
      "11\n",
      "12\n",
      "13\n",
      "14\n",
      "15\n",
      "16\n",
      "17\n",
      "18\n",
      "19\n",
      "20\n"
     ]
    }
   ],
   "source": [
    "# Loop\n",
    "s  = 10\n",
    "while s>0:\n",
    "    print(s)\n",
    "    s = s+1\n",
    "    if s >20:\n",
    "        break"
   ]
  },
  {
   "cell_type": "code",
   "execution_count": 39,
   "id": "46472190",
   "metadata": {},
   "outputs": [
    {
     "name": "stdout",
     "output_type": "stream",
     "text": [
      "0\n",
      "3\n",
      "6\n",
      "9\n"
     ]
    }
   ],
   "source": [
    "for i in range(0,10,3):\n",
    "    print(i)"
   ]
  },
  {
   "cell_type": "code",
   "execution_count": 41,
   "id": "6cae853e",
   "metadata": {},
   "outputs": [
    {
     "name": "stdout",
     "output_type": "stream",
     "text": [
      "Even\n"
     ]
    }
   ],
   "source": [
    "d = int(input(\"Please Enter a number\"))\n",
    "if d%2==0:\n",
    "    print(\"Even\")\n",
    "else:\n",
    "    print(\"odd\")"
   ]
  },
  {
   "cell_type": "code",
   "execution_count": 42,
   "id": "a70f2ed6",
   "metadata": {},
   "outputs": [
    {
     "name": "stdout",
     "output_type": "stream",
     "text": [
      "2\n",
      "4\n",
      "6\n",
      "8\n"
     ]
    }
   ],
   "source": [
    "for i in range(1,10):\n",
    "    if i%2==0:\n",
    "        print(i)"
   ]
  },
  {
   "cell_type": "code",
   "execution_count": 43,
   "id": "b8c5e778",
   "metadata": {},
   "outputs": [
    {
     "data": {
      "text/plain": [
       "20"
      ]
     },
     "execution_count": 43,
     "metadata": {},
     "output_type": "execute_result"
    }
   ],
   "source": [
    "# Functions\n",
    "# F = m a\n",
    "def calculate_force(m,a):\n",
    "    return m * a\n",
    "calculate_force(10,2)"
   ]
  },
  {
   "cell_type": "code",
   "execution_count": 46,
   "id": "cecf3b2d",
   "metadata": {},
   "outputs": [
    {
     "data": {
      "text/plain": [
       "0.7071067811865476"
      ]
     },
     "execution_count": 46,
     "metadata": {},
     "output_type": "execute_result"
    }
   ],
   "source": [
    "import math\n",
    "def func(x):\n",
    "    return math.sin(x)\n",
    "func(math.pi/4)"
   ]
  },
  {
   "cell_type": "code",
   "execution_count": 47,
   "id": "21cdfdf7",
   "metadata": {},
   "outputs": [
    {
     "data": {
      "text/plain": [
       "24"
      ]
     },
     "execution_count": 47,
     "metadata": {},
     "output_type": "execute_result"
    }
   ],
   "source": [
    "math.factorial(4)"
   ]
  },
  {
   "cell_type": "code",
   "execution_count": null,
   "id": "0134e2b5",
   "metadata": {},
   "outputs": [],
   "source": [
    "# Create a function, which takes a list as an argument and return the greatest number from the list\n",
    "matplotlib\n",
    "streamlit \n",
    "qiskit\n",
    "pennylane"
   ]
  }
 ],
 "metadata": {
  "kernelspec": {
   "display_name": "base",
   "language": "python",
   "name": "python3"
  },
  "language_info": {
   "codemirror_mode": {
    "name": "ipython",
    "version": 3
   },
   "file_extension": ".py",
   "mimetype": "text/x-python",
   "name": "python",
   "nbconvert_exporter": "python",
   "pygments_lexer": "ipython3",
   "version": "3.11.7"
  }
 },
 "nbformat": 4,
 "nbformat_minor": 5
}

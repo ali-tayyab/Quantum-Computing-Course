{
 "cells": [
  {
   "cell_type": "markdown",
   "metadata": {},
   "source": [
    "### **Introduction**\n",
    "<div style=\"text-align: justify\">\n",
    "\n",
    "Nowadays computing is exclusively done on computers using various computing tools. Prime tool of computing is a programing language. Physicists and other scientists has been using FORTRAN, C/C++, and Python. Although FORTRAN is now rarely used for developing new computer program but it is still in occasional use among scientists as some legacy codes are in available only in FORTRAN. A computer language usually comes with a limited numbers of inbuilt functionalities, mostly involving following minimal features.\n",
    " - Intrinsic data types\n",
    " - Operations\n",
    " - Conditionals\n",
    " - Loops\n",
    " - Functions\n",
    " - Modules/Libraries/Packages\n",
    " - Ability to define new data structures\n",
    " So if you are required to do a more advanced calculations like numerical integra tion or solving a differential equation numerically, you need to write a computer program in a computer language of your choice to complete your task. Writting a code for standard numerical calculation, that all physicist do routinely, is not recommended. Many experts have already written these codes, which are quite efficient and robust. So we should prefer to use these standard codes usually available in the form of libraries in case of C/C++ and FORTRAN and modules in case of Python. Mostly these libraries and modules are opensourse so you can use them freely. Other than numerical calculations, scientific computations also involve data analysis and data visualization. Again you are encouraged to use relevent libraries and modules. There exist an other class of tools which offers inbuilt functions to do numerical calculations, data analysis and visualization apart from offering minimal features which any programing language is supposed to provide. The tools which belong to this class includes Mathematica, Matlab and Maple. These proprietary tools can also be considered as computer languages, however, they primarily provide a huge number of functions which can be called to do advanced numerical calculations and data handling. In one sense, they seems ideal for scientific calculations because we don’t need to search for scientific libraries, everything is available within a complete package. However, ``there is a price that you have to pay'' as these tools are not freely available. Other than this, the codes written in these languages are interpre tative in nature and hence slow. However, Mathematica and Maple allows to do symbolic calculations which other programing languages do not offer. This feature makes them indespensible tool in case where you are required to do a large amount of symbolic calculations. Let us summarized the tools of scientific computations as following\n",
    "\n",
    "</div>"
   ]
  },
  {
   "cell_type": "markdown",
   "metadata": {},
   "source": []
  },
  {
   "cell_type": "code",
   "execution_count": null,
   "id": "d965261f",
   "metadata": {
    "vscode": {
     "languageId": "plaintext"
    }
   },
   "outputs": [],
   "source": []
  }
 ],
 "metadata": {
  "language_info": {
   "name": "python"
  }
 },
 "nbformat": 4,
 "nbformat_minor": 5
}

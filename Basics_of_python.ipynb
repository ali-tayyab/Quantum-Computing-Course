{
 "cells": [
  {
   "cell_type": "markdown",
   "metadata": {},
   "source": [
    "### **Introduction**\n",
    "<div style=\"text-align: justify\">\n",
    "\n",
    "Nowadays computing is exclusively done on computers using various computing tools. Prime tool of computing is a programing language. Physicists and other scientists has been using FORTRAN, C/C++, and Python. Although FORTRAN is now rarely used for developing new computer program but it is still in occasional use among scientists as some legacy codes are in available only in FORTRAN. A computer language usually comes with a limited numbers of inbuilt functionalities, mostly involving following minimal features.\n",
    " - Intrinsic data types\n",
    " - Operations\n",
    " - Conditionals\n",
    " - Loops\n",
    " - Functions\n",
    " - Modules/Libraries/Packages\n",
    " - Ability to define new data structures <br>\n",
    "So if you are required to do a more advanced calculations like numerical integra tion or solving a differential equation numerically, you need to write a computer program in a computer language of your choice to complete your task. Writting a code for standard numerical calculation, that all physicist do routinely, is not recommended. Many experts have already written these codes, which are quite efficient and robust. So we should prefer to use these standard codes usually available in the form of libraries in case of C/C++ and FORTRAN and modules in case of Python. Mostly these libraries and modules are opensourse so you can use them freely. Other than numerical calculations, scientific computations also involve data analysis and data visualization. Again you are encouraged to use relevent libraries and modules. There exist an other class of tools which offers inbuilt functions to do numerical calculations, data analysis and visualization apart from offering minimal features which any programing language is supposed to provide. The tools which belong to this class includes Mathematica, Matlab and Maple. These proprietary tools can also be considered as computer languages, however, they primarily provide a huge number of functions which can be called to do advanced numerical calculations and data handling. In one sense, they seems ideal for scientific calculations because we don’t need to search for scientific libraries, everything is available within a complete package. However, ``there is a price that you have to pay'' as these tools are not freely available. Other than this, the codes written in these languages are interpre tative in nature and hence slow. However, Mathematica and Maple allows to do symbolic calculations which other programing languages do not offer. This feature makes them indespensible tool in case where you are required to do a large amount of symbolic calculations. Let us summarized the tools of scientific computations as following\n",
    "\n",
    "- C/C++ and FORTRAN: These are compiled computer languages, so you are\n",
    " required to used them when your computing task involves large amount of\n",
    " calculations and speed is important to complete the task in reasonable time.\n",
    " These laguages offer basic programing feature, so you are also required to use\n",
    " libraries for numerical calculations, data analysis and visualization.\n",
    " - Python: This is an interpreted computer language, hence significantly slower\n",
    " than C/C++ and FORTRAN. However, it comes with a large repository of\n",
    " modules which can be used to do all sort of scientific computations. Object oriented features of Python makes it an excellent choice for most of the modern\n",
    " scientific applications.\n",
    " - Mathematica, Matlab, and Maple: There are also interpretive languages. How\n",
    "ever, they come with built in funcations to do scientific computations. Sym\n",
    "bolic calculations are also possible in Mathematica and Maple. Their main\n",
    " draw back is that they are not opensourse.\n",
    " - Specilized application packages: These application tools are designed to do\n",
    " some specific calculation. Programing is not possible in most of the cases.\n",
    " User is required to edit configuration files to complete the task.<br>\n",
    "\n",
    "Choice of operating system is also important in case of scientific computations. Due\n",
    "to opensource nature of Linux based operating system most of the scientific libraries\n",
    "of C/C++ and FORTRAN have been developed to work in Linux. Specialized\n",
    "application packages are also mostly developed in Linux. So in these cases Linux\n",
    "is a prefered choice for scientific computations. However, if you are using Python,\n",
    "Mathematica, Matlab etc then operating system does not matter. Recently Windows\n",
    "has introduced a Linux subsytem which can be used to execute and develop Linux\n",
    "based applications with in Windows. This subsystem is primarily text based, though\n",
    "limited GUI is available through XServer (a Windows propritory application). It\n",
    "can be a good starting point to get familiar with Linux operating system. For a\n",
    "more serious users or developers, it is highly recommended to have a separate stand\n",
    "alone Linux operating system.\n",
    "</div>"
   ]
  },
  {
   "cell_type": "markdown",
   "id": "29b02363",
   "metadata": {},
   "source": [
    "### **Installing Python and Setting-up environment**\n",
    "\n",
    "To start using Python on Windows, first install it from the official website [https://www.python.org/downloads/](https://www.python.org/downloads/). During installation, make sure you check the option  *\"Add Python to PATH\"* so you can run Python from anywhere in the terminal. Once installed, open **Command Prompt** and verify the installation with `python --version` and `pip --version`. If both commands show a version number, Python and its package manager (pip) are installed correctly.\n",
    "\n",
    "A simpler way for beginners is to install **Anaconda**, which already includes Python, Jupyter Notebook, and many useful libraries. Download it from [https://www.anaconda.com/download](https://www.anaconda.com/download) and install with default settings. After installation, you can open **Anaconda Navigator** and launch **Jupyter Notebook** directly.\n",
    "\n",
    "To run Python, you have two main options:  \n",
    "1. Open **Command Prompt** and type `python`, then write commands interactively. Exit anytime with `exit()`.  \n",
    "2. Use **Jupyter Notebook** from Anaconda Navigator, create a new notebook, type Python code in a cell, and press **Shift + Enter** to run it.\n",
    "\n",
    "For working on projects, it is recommended to use a **virtual environment** so each project has its own dependencies. To create one, run `python -m venv myenv`. Activate it with `myenv\\Scripts\\activate`. While it is active, you can install packages like `pip install numpy pandas matplotlib`. When finished, deactivate the environment using `deactivate`.\n",
    "\n",
    "With this setup, you now have Python installed, can run it either from the terminal or Jupyter Notebook, and can manage different projects cleanly using virtual environments.\n"
   ]
  },
  {
   "cell_type": "code",
   "execution_count": null,
   "id": "22b72aa8",
   "metadata": {
    "vscode": {
     "languageId": "plaintext"
    }
   },
   "outputs": [],
   "source": []
  },
  {
   "cell_type": "markdown",
   "metadata": {},
   "source": []
  },
  {
   "cell_type": "code",
   "execution_count": null,
   "id": "d965261f",
   "metadata": {
    "vscode": {
     "languageId": "plaintext"
    }
   },
   "outputs": [],
   "source": []
  }
 ],
 "metadata": {
  "language_info": {
   "name": "python"
  }
 },
 "nbformat": 4,
 "nbformat_minor": 5
}

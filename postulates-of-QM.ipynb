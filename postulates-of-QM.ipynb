{
 "cells": [
  {
   "cell_type": "markdown",
   "id": "1c94f091",
   "metadata": {},
   "source": [
    "### Need of Quantum Mechanics\n",
    "\n",
    "In physics, we choose different theories depending on the scale of motion and the accuracy we need. For example, when a particle is moving at a speed that is comparable to the speed of light, classical Newtonian mechanics is no longer sufficient, and relativity must be applied. However, relativity is not limited only to high speeds—it is a universal theory that works at all scales. The reason we do not apply it for everyday speeds is because the relativistic factor  \n",
    "\n",
    "$ \\frac{1}{\\sqrt{1-\\frac{v^{2}}{c^{2}}}} $  \n",
    "\n",
    "is almost equal to $1$ when $v \\ll c$. In such cases, the results from relativity reduce to those of Newtonian mechanics, which are much simpler to work with. In a very similar spirit, quantum mechanics becomes necessary when the effects governed by Planck’s constant cannot be neglected. The value of Planck’s constant is  \n",
    "\n",
    "$ h = 6.62 \\times 10^{-34} \\, Js $  \n",
    "\n",
    "and whenever we are dealing with systems where actions are of the order of this magnitude, quantum mechanics provides the correct description. Nevertheless, quantum mechanics is also a complete and universal theory that works at all scales, but for large macroscopic systems, we prefer classical mechanics because it avoids unnecessary complexity while still giving practically correct results.\n",
    "\n",
    "One of the key differences between classical and quantum mechanics lies in how we handle measurements. In classical mechanics, the position of a particle can, in principle, be measured exactly and represented as a precise number. Errors only arise due to the least count of measuring instruments, and often we ignore these in large-scale systems. But in the microscopic domain of quantum mechanics, such errors can never be ignored. Measurements are fundamentally limited, and therefore quantum mechanics avoids the assumption of perfect measurement altogether. Instead, quantum mechanics is inherently probabilistic—it talks in the language of probabilities rather than certainties. While in classical mechanics we try to find the exact trajectory or position of a particle, in quantum mechanics we calculate the probability of finding a particle in a certain region of space.\n",
    "\n",
    "The natural question is: how do we compute such probabilities? The central object in quantum mechanics is the wavefunction, denoted by  \n",
    "\n",
    "$ \\psi(r) $ for position dependence, or more generally $ \\Psi(r,t) $ for the time-dependent case.  \n",
    "\n",
    "This wavefunction is obtained as a solution to a differential equation that governs the dynamics of the quantum system. However, the wavefunction itself can take complex or negative values, and probability cannot be negative or complex. To resolve this, we construct the probability density $\\rho(r,t)$ by multiplying the wavefunction with its complex conjugate:  \n",
    "\n",
    "$ \\rho(r,t) = \\Psi(r,t) \\times \\Psi^{*}(r,t) $  \n",
    "\n",
    "This guarantees that the probability density is always a non-negative real number. Once we have the probability density, the actual probability of finding the particle in a certain region between $a$ and $b$ is given by an integral:  \n",
    "\n",
    "$ probability = \\int_{a}^{b} \\rho(r,t) \\, dr $  \n",
    "\n",
    "Thus, quantum mechanics links the abstract wavefunction to measurable quantities through this procedure.\n",
    "\n",
    "Now the crucial point is: which differential equation should we solve to obtain the wavefunction? We essentially have two choices—either the Schrödinger equation or Maxwell’s equations. The choice depends on the physical situation we are describing. If the detection process involves charge being deposited on a detector, the Schrödinger equation is used to describe the evolution of the wavefunction. On the other hand, if no charge is involved during detection, the system is more appropriately described using Maxwell’s equations.\n",
    "\n",
    "Therefore, a complete quantum mechanical prediction for any physical system proceeds in the following logical steps: first, select the appropriate differential equation (either Schrödinger or Maxwell) according to the situation; second, solve this equation to obtain the wavefunction; third, multiply the wavefunction by its complex conjugate to obtain the probability density; and finally, calculate the probability of finding the particle in a given region by integrating this density. Symbolically, the procedure can be summarized as  \n",
    "\n",
    "$ Probability = \\int_{a}^{b} \\Psi(r,t)\\Psi^{*}(r,t) \\, dr $  \n",
    "\n",
    "This sequence of steps forms the backbone of quantum mechanics and highlights why it is both a probabilistic and a universal theory, essential whenever classical mechanics ceases to give an accurate description."
   ]
  },
  {
   "cell_type": "code",
   "execution_count": null,
   "metadata": {
    "vscode": {
     "languageId": "markdown"
    }
   },
   "outputs": [],
   "source": []
  },
  {
   "cell_type": "code",
   "execution_count": null,
   "id": "a7033997",
   "metadata": {
    "vscode": {
     "languageId": "markdown"
    }
   },
   "outputs": [],
   "source": []
  }
 ],
 "metadata": {
  "language_info": {
   "name": "python"
  }
 },
 "nbformat": 4,
 "nbformat_minor": 5
}
